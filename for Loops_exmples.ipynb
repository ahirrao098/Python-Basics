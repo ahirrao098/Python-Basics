{
 "cells": [
  {
   "cell_type": "code",
   "execution_count": null,
   "id": "96ce02ac-5039-4fd2-bb17-81364d90b4b9",
   "metadata": {},
   "outputs": [],
   "source": [
    "## counting positive numbers"
   ]
  },
  {
   "cell_type": "code",
   "execution_count": 9,
   "id": "1b23d666-de6b-4dd3-be28-bf91093f16be",
   "metadata": {},
   "outputs": [],
   "source": [
    "numbers=[1,-2,3,-4,5,6,-7,-8,-9,10]\n",
    "positive_num=0"
   ]
  },
  {
   "cell_type": "code",
   "execution_count": 10,
   "id": "dfe8705b-77cd-4273-9973-b5244846d2d7",
   "metadata": {},
   "outputs": [
    {
     "name": "stdout",
     "output_type": "stream",
     "text": [
      "5\n"
     ]
    }
   ],
   "source": [
    "for i in numbers:\n",
    "    if i > 0:\n",
    "        positive_num= positive_num+1\n",
    "print(positive_num)"
   ]
  },
  {
   "cell_type": "code",
   "execution_count": null,
   "id": "76acea7f-7607-4700-87bd-26685a9d2931",
   "metadata": {},
   "outputs": [],
   "source": [
    "## Sum of even numbers"
   ]
  },
  {
   "cell_type": "code",
   "execution_count": 14,
   "id": "93c4f398-deaa-49cc-ae0d-ad531f0b2110",
   "metadata": {},
   "outputs": [
    {
     "name": "stdout",
     "output_type": "stream",
     "text": [
      "5\n"
     ]
    }
   ],
   "source": [
    "num= 10\n",
    "sum_even=0\n",
    "\n",
    "for i in range(1,num+1):\n",
    "    if i % 2 == 0:\n",
    "        sum_even=sum_even+1\n",
    "\n",
    "print(sum_even)"
   ]
  },
  {
   "cell_type": "code",
   "execution_count": null,
   "id": "61522819-a6ce-4818-ba3d-2f8a49d7e20f",
   "metadata": {},
   "outputs": [],
   "source": [
    "#Multiplication table printer ...\n",
    "#Print the multiplication table for a given number upto 10 ,but skip 5th itereation\n"
   ]
  },
  {
   "cell_type": "code",
   "execution_count": 18,
   "id": "d4b2d0b3-028f-4709-89c5-9f0947465980",
   "metadata": {},
   "outputs": [
    {
     "name": "stdout",
     "output_type": "stream",
     "text": [
      "3 X 1 = 3\n",
      "3 X 2 = 6\n",
      "3 X 3 = 9\n",
      "3 X 4 = 12\n",
      "3 X 6 = 18\n",
      "3 X 7 = 21\n",
      "3 X 8 = 24\n",
      "3 X 9 = 27\n",
      "3 X 10 = 30\n"
     ]
    }
   ],
   "source": [
    "num=3\n",
    "for i in range (1,11):\n",
    "    if i==5:\n",
    "        continue\n",
    "    print(num, \"X\", i ,\"=\", num * i)\n",
    "    \n",
    "    \n"
   ]
  },
  {
   "cell_type": "code",
   "execution_count": null,
   "id": "a75112c0-8fc9-4956-af8b-5ab0400958e8",
   "metadata": {},
   "outputs": [],
   "source": [
    "## Riverse a string \n",
    "##Problem :Reverse a string using a loop"
   ]
  },
  {
   "cell_type": "code",
   "execution_count": 32,
   "id": "9aef27aa-7d9c-4f37-bfdd-8b643790f333",
   "metadata": {},
   "outputs": [
    {
     "name": "stdout",
     "output_type": "stream",
     "text": [
      "nohtyP\n"
     ]
    }
   ],
   "source": [
    "Str=\"Python\"\n",
    "\n",
    "revers_str=\"\"\n",
    "\n",
    "for char in Str:\n",
    "    # revers_str=revers_str+char\n",
    "    # print(char)\n",
    "    revers_str=char+revers_str\n",
    "    # print(revers_str)\n",
    "    \n",
    "\n",
    "\n",
    "print(revers_str)\n",
    "    "
   ]
  },
  {
   "cell_type": "code",
   "execution_count": 46,
   "id": "09986bc0-6092-423e-be0d-e8db659aafba",
   "metadata": {},
   "outputs": [
    {
     "name": "stdout",
     "output_type": "stream",
     "text": [
      "b\n",
      "y\n"
     ]
    }
   ],
   "source": [
    "## find the First Non Repeated Character\n",
    "\n",
    "inp_str=\"teeterbtry\"\n",
    "\n",
    "for i in inp_str:\n",
    "    if inp_str.count(i)==1:\n",
    "        print(i)\n",
    "        # break\n",
    "    \n",
    "    "
   ]
  },
  {
   "cell_type": "code",
   "execution_count": 41,
   "id": "67a4064e-3657-4a2c-a215-9b0dae7b4f35",
   "metadata": {},
   "outputs": [
    {
     "data": {
      "text/plain": [
       "3"
      ]
     },
     "execution_count": 41,
     "metadata": {},
     "output_type": "execute_result"
    }
   ],
   "source": [
    "Str=\"teeterr hidid.kkjddk\"\n",
    "Str.count(\"e\")"
   ]
  },
  {
   "cell_type": "code",
   "execution_count": 48,
   "id": "04001a17-f536-4879-bd06-65c6a4cb9ee4",
   "metadata": {},
   "outputs": [
    {
     "name": "stdout",
     "output_type": "stream",
     "text": [
      "6 720\n"
     ]
    }
   ],
   "source": [
    "# calculate the factorial of a number using a for loop in Python\n",
    "\n",
    "num=6\n",
    "\n",
    "factorial=1\n",
    "\n",
    "for i in range(1,num+1):\n",
    "    factorial=factorial * i\n",
    "\n",
    "print(num , factorial)"
   ]
  },
  {
   "cell_type": "code",
   "execution_count": 50,
   "id": "6225f6d9-770e-4642-a2b4-65cc38a59713",
   "metadata": {},
   "outputs": [
    {
     "name": "stdout",
     "output_type": "stream",
     "text": [
      "factorial steps:  [1, 2, 6, 24, 120]\n"
     ]
    }
   ],
   "source": [
    "num=5\n",
    "\n",
    "factorial=1\n",
    "step=[]\n",
    "\n",
    "for i in range(1,num+1):\n",
    "    factorial = factorial * i\n",
    "    step.append(factorial)\n",
    "\n",
    "print(\"factorial steps: \", step)\n"
   ]
  },
  {
   "cell_type": "code",
   "execution_count": 51,
   "id": "e1811d52-04cb-49cb-8d19-e25a729cd84b",
   "metadata": {},
   "outputs": [
    {
     "name": "stdout",
     "output_type": "stream",
     "text": [
      "1! = 1\n",
      "2! = 2\n",
      "3! = 6\n",
      "4! = 24\n",
      "5! = 120\n",
      "6! = 720\n"
     ]
    }
   ],
   "source": [
    "num = 6\n",
    "factorial = 1\n",
    "\n",
    "for i in range(1, num + 1):\n",
    "    factorial *= i\n",
    "    print(f\"{i}! = {factorial}\")"
   ]
  },
  {
   "cell_type": "code",
   "execution_count": null,
   "id": "db4e351e-b36e-40db-a3ff-879115f4519e",
   "metadata": {},
   "outputs": [],
   "source": [
    "# keep asking the user for input until they enter a number between 1 and 10"
   ]
  },
  {
   "cell_type": "code",
   "execution_count": 4,
   "id": "1d178292-0f9c-43ca-8e98-27b5fe48131d",
   "metadata": {},
   "outputs": [
    {
     "name": "stdin",
     "output_type": "stream",
     "text": [
      "input the number in between 1 to 10: 34\n"
     ]
    },
    {
     "name": "stdout",
     "output_type": "stream",
     "text": [
      "invalid num\n"
     ]
    }
   ],
   "source": [
    "number=int(input(\"input the number in between 1 to 10:\"))\n",
    "is_valid=False\n",
    "for i in range(1,11):\n",
    "    if number==i:\n",
    "        print(\"valid num:\",number)\n",
    "        is_valid=True\n",
    "        break\n",
    "if not is_valid:\n",
    "    print(\"invalid num\")"
   ]
  },
  {
   "cell_type": "code",
   "execution_count": null,
   "id": "e849fb96-e7b1-4968-b740-c826b0e27f77",
   "metadata": {},
   "outputs": [],
   "source": [
    "# Prime Number Check (Using for loop):"
   ]
  },
  {
   "cell_type": "code",
   "execution_count": 11,
   "id": "d507dc46-f776-4b28-b3ca-2a223f5ba4bc",
   "metadata": {},
   "outputs": [
    {
     "name": "stdout",
     "output_type": "stream",
     "text": [
      "not a prime number\n"
     ]
    }
   ],
   "source": [
    "num=12\n",
    "\n",
    "if num<2:\n",
    "    print(\"not a prime number\")\n",
    "else:\n",
    "    for i in range(2,num):\n",
    "        if num % i==0:\n",
    "            print(\"not a prime number\")\n",
    "            break\n",
    "    else:\n",
    "        print(\"prime number\")"
   ]
  },
  {
   "cell_type": "code",
   "execution_count": null,
   "id": "b36ba7ba-e447-4524-aea3-33052a7d4c2d",
   "metadata": {},
   "outputs": [],
   "source": [
    "#Check all the elements in the list are unique .if a duplicate is found exit the loop and print duplicate"
   ]
  },
  {
   "cell_type": "code",
   "execution_count": 18,
   "id": "2557b788-e0ff-48d9-8a2f-624263d7a0e0",
   "metadata": {},
   "outputs": [
    {
     "name": "stdout",
     "output_type": "stream",
     "text": [
      "duplicate:  apple\n",
      "duplicate:  mango\n"
     ]
    }
   ],
   "source": [
    "items=[\"apple\",\"banana\",\"orange\",\"apple\",\"mango\",\"mango\"]\n",
    "\n",
    "unique_item=[]\n",
    "for item in items:\n",
    "    if item in unique_item:\n",
    "        print(\"duplicate: \",item)\n",
    "        # break\n",
    "    unique_item.append(item)"
   ]
  },
  {
   "cell_type": "code",
   "execution_count": null,
   "id": "040d3234-c107-40ce-8043-c9ebb54d89bb",
   "metadata": {},
   "outputs": [],
   "source": []
  },
  {
   "cell_type": "code",
   "execution_count": null,
   "id": "873f4b49-aa8f-4460-9114-4eb6d42257f7",
   "metadata": {},
   "outputs": [],
   "source": []
  },
  {
   "cell_type": "code",
   "execution_count": null,
   "id": "818fc9a7-27a0-4b3e-b56d-64a3be4c95e8",
   "metadata": {},
   "outputs": [],
   "source": []
  },
  {
   "cell_type": "code",
   "execution_count": null,
   "id": "6c7b24a6-041b-4b53-ba77-b3cc6095809f",
   "metadata": {},
   "outputs": [],
   "source": []
  },
  {
   "cell_type": "code",
   "execution_count": null,
   "id": "27fa8537-9056-4078-8879-bc157e422165",
   "metadata": {},
   "outputs": [],
   "source": []
  },
  {
   "cell_type": "code",
   "execution_count": null,
   "id": "582a2a85-148c-4ef0-ab30-e91f26aa604a",
   "metadata": {},
   "outputs": [],
   "source": []
  },
  {
   "cell_type": "code",
   "execution_count": null,
   "id": "7aa2acf1-8f6c-414d-8462-58747f6237d0",
   "metadata": {},
   "outputs": [],
   "source": []
  },
  {
   "cell_type": "code",
   "execution_count": null,
   "id": "08087f6e-cc2a-4d99-ab64-e6f34b0d3ea5",
   "metadata": {},
   "outputs": [],
   "source": []
  }
 ],
 "metadata": {
  "kernelspec": {
   "display_name": "Python 3 (ipykernel)",
   "language": "python",
   "name": "python3"
  },
  "language_info": {
   "codemirror_mode": {
    "name": "ipython",
    "version": 3
   },
   "file_extension": ".py",
   "mimetype": "text/x-python",
   "name": "python",
   "nbconvert_exporter": "python",
   "pygments_lexer": "ipython3",
   "version": "3.11.9"
  }
 },
 "nbformat": 4,
 "nbformat_minor": 5
}
