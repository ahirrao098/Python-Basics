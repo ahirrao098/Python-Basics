{
 "cells": [
  {
   "cell_type": "code",
   "execution_count": 3,
   "id": "d035b99e-de61-4be3-902d-03a45954ee86",
   "metadata": {},
   "outputs": [
    {
     "name": "stdout",
     "output_type": "stream",
     "text": [
      "valid triangle\n"
     ]
    }
   ],
   "source": [
    "# Check if a triangle is valid given 3 sides.\n",
    "\n",
    "a=5\n",
    "b=6\n",
    "c=10\n",
    "\n",
    "if a+b > c and b+c>a and c+a>b :\n",
    "    print(\"valid triangle\")\n",
    "else:\n",
    "    print(\"invalid triangle\")"
   ]
  },
  {
   "cell_type": "code",
   "execution_count": 4,
   "id": "040a633e-5623-4769-b783-f3532ac02956",
   "metadata": {},
   "outputs": [
    {
     "name": "stdout",
     "output_type": "stream",
     "text": [
      "Can form triangle\n"
     ]
    }
   ],
   "source": [
    "# Check if three numbers form a triangle (triangle inequality).\n",
    "\n",
    "x, y, z = 3, 4, 5\n",
    "if x + y > z and x + z > y and y + z > x:\n",
    "    print(\"Can form triangle\")\n",
    "else:\n",
    "    print(\"Cannot form triangle\")"
   ]
  },
  {
   "cell_type": "code",
   "execution_count": 5,
   "id": "56144733-0b87-4e3d-9d32-f293ae3bb93a",
   "metadata": {},
   "outputs": [
    {
     "name": "stdout",
     "output_type": "stream",
     "text": [
      "Senior Ticket\n"
     ]
    }
   ],
   "source": [
    "# Assign ticket price based on age.\n",
    "age = 65\n",
    "if age <= 12:\n",
    "    print(\"Child Ticket\")\n",
    "elif age <= 60:\n",
    "    print(\"Adult Ticket\")\n",
    "else:\n",
    "    print(\"Senior Ticket\")"
   ]
  },
  {
   "cell_type": "code",
   "execution_count": 6,
   "id": "947ba38e-2aaa-4600-8292-7f8e1e1acd17",
   "metadata": {},
   "outputs": [
    {
     "name": "stdout",
     "output_type": "stream",
     "text": [
      "Triple digit\n"
     ]
    }
   ],
   "source": [
    "\n",
    "# Classify a number: single, double, triple-digit.\n",
    "\n",
    "num = 234\n",
    "if num < 10:\n",
    "    print(\"Single digit\")\n",
    "elif num < 100:\n",
    "    print(\"Double digit\")\n",
    "elif num < 1000:\n",
    "    print(\"Triple digit\")\n",
    "else:\n",
    "    print(\"More than three digits\")"
   ]
  },
  {
   "cell_type": "code",
   "execution_count": null,
   "id": "8afd2a6f-042f-4280-bbd1-77958a51c8ec",
   "metadata": {},
   "outputs": [],
   "source": [
    " # Check if a string is empty.\n",
    "text = \"\"\n",
    "if text == \"\":\n",
    "    print(\"Empty string\")\n",
    "else:\n",
    "    print(\"Not empty\")"
   ]
  },
  {
   "cell_type": "code",
   "execution_count": 7,
   "id": "692e5dac-6b23-4a95-9c15-e5be90e24810",
   "metadata": {},
   "outputs": [
    {
     "name": "stdout",
     "output_type": "stream",
     "text": [
      "Overweight\n"
     ]
    }
   ],
   "source": [
    " # Classify BMI\n",
    "bmi = 28\n",
    "if bmi < 18.5:\n",
    "    print(\"Underweight\")\n",
    "elif bmi < 25:\n",
    "    print(\"Normal\")\n",
    "else:\n",
    "    print(\"Overweight\")\n"
   ]
  },
  {
   "cell_type": "code",
   "execution_count": 8,
   "id": "b9999acf-73d9-4588-af1f-51bcf2966986",
   "metadata": {},
   "outputs": [
    {
     "name": "stdout",
     "output_type": "stream",
     "text": [
      "Century year\n"
     ]
    }
   ],
   "source": [
    " # Check if a year is a century year.\n",
    "\n",
    "year = 1900\n",
    "if year % 100 == 0:\n",
    "    print(\"Century year\")\n",
    "else:\n",
    "    print(\"Not a century year\")\n",
    "\n"
   ]
  },
  {
   "cell_type": "code",
   "execution_count": null,
   "id": "92453a0d-2e64-4960-9f83-b9944ef52657",
   "metadata": {},
   "outputs": [],
   "source": []
  },
  {
   "cell_type": "code",
   "execution_count": null,
   "id": "2017f3b6-4899-4485-93d7-6cea0604da0c",
   "metadata": {},
   "outputs": [],
   "source": []
  },
  {
   "cell_type": "code",
   "execution_count": null,
   "id": "cc873273-ed5c-4c9e-8be1-08c3336f3300",
   "metadata": {},
   "outputs": [],
   "source": []
  },
  {
   "cell_type": "code",
   "execution_count": null,
   "id": "611664a9-a588-49a5-ba5d-59e6333a992c",
   "metadata": {},
   "outputs": [],
   "source": []
  },
  {
   "cell_type": "code",
   "execution_count": null,
   "id": "ee4f01e9-0e67-4941-8498-ddac2a4325ba",
   "metadata": {},
   "outputs": [],
   "source": []
  },
  {
   "cell_type": "code",
   "execution_count": null,
   "id": "61f2e748-27f5-41ae-bea1-bf267f068e7b",
   "metadata": {},
   "outputs": [],
   "source": []
  },
  {
   "cell_type": "code",
   "execution_count": null,
   "id": "6f5bf7bf-ddee-457c-9138-7400c56ec631",
   "metadata": {},
   "outputs": [],
   "source": []
  },
  {
   "cell_type": "code",
   "execution_count": null,
   "id": "34dbf629-f8ac-4bc4-80fb-8c0fc7bb1007",
   "metadata": {},
   "outputs": [],
   "source": []
  },
  {
   "cell_type": "code",
   "execution_count": null,
   "id": "4e6528ed-c00a-47aa-a5fe-0dcd63cf8289",
   "metadata": {},
   "outputs": [],
   "source": []
  },
  {
   "cell_type": "code",
   "execution_count": null,
   "id": "35e96845-b894-4a9b-9166-4fcc8268ea98",
   "metadata": {},
   "outputs": [],
   "source": []
  },
  {
   "cell_type": "code",
   "execution_count": null,
   "id": "ef416dda-1f1c-4ee7-a78f-ec4397dec460",
   "metadata": {},
   "outputs": [],
   "source": []
  },
  {
   "cell_type": "code",
   "execution_count": null,
   "id": "36b477b3-476f-4415-b719-c3552928585e",
   "metadata": {},
   "outputs": [],
   "source": []
  },
  {
   "cell_type": "code",
   "execution_count": null,
   "id": "575aa6a8-ab38-448c-ba3f-9bf415f6135c",
   "metadata": {},
   "outputs": [],
   "source": []
  },
  {
   "cell_type": "code",
   "execution_count": null,
   "id": "06a02b05-6ba6-4642-a81d-82966c7fe1e3",
   "metadata": {},
   "outputs": [],
   "source": []
  },
  {
   "cell_type": "code",
   "execution_count": null,
   "id": "6d0ba131-ec60-442a-a4fc-67d2b0bd291e",
   "metadata": {},
   "outputs": [],
   "source": []
  },
  {
   "cell_type": "code",
   "execution_count": null,
   "id": "e7452aac-d72d-4713-8301-082f81b61a03",
   "metadata": {},
   "outputs": [],
   "source": []
  }
 ],
 "metadata": {
  "kernelspec": {
   "display_name": "Python 3 (ipykernel)",
   "language": "python",
   "name": "python3"
  },
  "language_info": {
   "codemirror_mode": {
    "name": "ipython",
    "version": 3
   },
   "file_extension": ".py",
   "mimetype": "text/x-python",
   "name": "python",
   "nbconvert_exporter": "python",
   "pygments_lexer": "ipython3",
   "version": "3.11.9"
  }
 },
 "nbformat": 4,
 "nbformat_minor": 5
}
