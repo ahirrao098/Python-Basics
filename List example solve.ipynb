{
 "cells": [
  {
   "cell_type": "code",
   "execution_count": null,
   "id": "5d33896f-de4c-403b-9f50-fb0d8f63a8da",
   "metadata": {},
   "outputs": [],
   "source": [
    "# Create a list colors = [\"red\", \"green\", \"blue\"] and print it\n",
    "# ✅ Output: ['red', 'green', 'blue']\n",
    "\n"
   ]
  },
  {
   "cell_type": "code",
   "execution_count": 2,
   "id": "96f47c89-da40-422a-842a-0907ae05850c",
   "metadata": {},
   "outputs": [
    {
     "name": "stdout",
     "output_type": "stream",
     "text": [
      "['red', 'green', 'blue']\n"
     ]
    }
   ],
   "source": [
    "color=[\"red\", \"green\", \"blue\"]\n",
    "print(color)"
   ]
  },
  {
   "cell_type": "code",
   "execution_count": null,
   "id": "181d9b41-d063-48d0-994a-610ab2f4ee17",
   "metadata": {},
   "outputs": [],
   "source": [
    "# Print the first and last item from the list colors = [\"red\", \"green\", \"blue\"]\n",
    "# ✅ Output: red, blue"
   ]
  },
  {
   "cell_type": "code",
   "execution_count": 10,
   "id": "e8a26eb9-c408-4766-a193-56db41245fbb",
   "metadata": {},
   "outputs": [
    {
     "name": "stdout",
     "output_type": "stream",
     "text": [
      "red\n",
      "blue\n"
     ]
    }
   ],
   "source": [
    "print(color[0])\n",
    "print(color[-1])"
   ]
  },
  {
   "cell_type": "code",
   "execution_count": null,
   "id": "1293b47f-a6c7-416e-bb68-bcd266281e3c",
   "metadata": {},
   "outputs": [],
   "source": [
    "# Change \"green\" to \"yellow\" in the list colors = [\"red\", \"green\", \"blue\"]\n",
    "# ✅ Output: ['red', 'yellow', 'blue']"
   ]
  },
  {
   "cell_type": "code",
   "execution_count": 12,
   "id": "9d2c75ef-b452-41ae-8d70-7cb526a94cf3",
   "metadata": {},
   "outputs": [],
   "source": [
    "color[1]=\"yellow\""
   ]
  },
  {
   "cell_type": "code",
   "execution_count": 13,
   "id": "a67d77c1-0358-48b1-a70c-91be695c96c1",
   "metadata": {},
   "outputs": [
    {
     "name": "stdout",
     "output_type": "stream",
     "text": [
      "['red', 'yellow', 'blue']\n"
     ]
    }
   ],
   "source": [
    "print(color)"
   ]
  },
  {
   "cell_type": "code",
   "execution_count": null,
   "id": "8d4eb12e-e3d3-4d82-b817-aac12f682e92",
   "metadata": {},
   "outputs": [],
   "source": [
    "# Append \"purple\" to the list colors\n",
    "# ✅ Output: ['red', 'yellow', 'blue', 'purple']"
   ]
  },
  {
   "cell_type": "code",
   "execution_count": 14,
   "id": "72bb753d-6b62-4fcb-969e-1ecb04d99339",
   "metadata": {},
   "outputs": [],
   "source": [
    "color.append(\"purpule\")"
   ]
  },
  {
   "cell_type": "code",
   "execution_count": 15,
   "id": "0fbea3fa-9480-4a2e-aeda-cf1211c389d5",
   "metadata": {},
   "outputs": [
    {
     "name": "stdout",
     "output_type": "stream",
     "text": [
      "['red', 'yellow', 'blue', 'purpule']\n"
     ]
    }
   ],
   "source": [
    "print(color)"
   ]
  },
  {
   "cell_type": "code",
   "execution_count": 16,
   "id": "40c99c22-0e48-4d92-baa0-1782cc85e6f1",
   "metadata": {},
   "outputs": [
    {
     "ename": "TypeError",
     "evalue": "'builtin_function_or_method' object does not support item assignment",
     "output_type": "error",
     "traceback": [
      "\u001b[1;31m---------------------------------------------------------------------------\u001b[0m",
      "\u001b[1;31mTypeError\u001b[0m                                 Traceback (most recent call last)",
      "Cell \u001b[1;32mIn[16], line 1\u001b[0m\n\u001b[1;32m----> 1\u001b[0m \u001b[43mcolor\u001b[49m\u001b[38;5;241;43m.\u001b[39;49m\u001b[43mindex\u001b[49m\u001b[43m[\u001b[49m\u001b[38;5;241;43m1\u001b[39;49m\u001b[43m]\u001b[49m\u001b[38;5;241m=\u001b[39m\u001b[38;5;124m\"\u001b[39m\u001b[38;5;124morange\u001b[39m\u001b[38;5;124m\"\u001b[39m\n",
      "\u001b[1;31mTypeError\u001b[0m: 'builtin_function_or_method' object does not support item assignment"
     ]
    }
   ],
   "source": [
    "# Insert \"orange\" at index 1 in the list colors\n",
    "# ✅ Output: ['red', 'orange', 'yellow', 'blue', 'purple']"
   ]
  },
  {
   "cell_type": "code",
   "execution_count": 17,
   "id": "324817f7-2867-4142-bec3-ba464d218d21",
   "metadata": {},
   "outputs": [
    {
     "name": "stdout",
     "output_type": "stream",
     "text": [
      "['red', 'orange', 'yellow', 'blue', 'purpule']\n"
     ]
    }
   ],
   "source": [
    "color.insert(1,\"orange\")\n",
    "print(color)"
   ]
  },
  {
   "cell_type": "code",
   "execution_count": null,
   "id": "ab1598bc-cdcc-450f-9232-68bf4702b48d",
   "metadata": {},
   "outputs": [],
   "source": [
    "# Remove \"blue\" from the list\n",
    "# ✅ Output: ['red', 'orange', 'yellow', 'purple']\n",
    "\n"
   ]
  },
  {
   "cell_type": "code",
   "execution_count": 20,
   "id": "c2c9bcab-6501-451e-9f24-da1730bb3601",
   "metadata": {},
   "outputs": [
    {
     "name": "stdout",
     "output_type": "stream",
     "text": [
      "['red', 'orange', 'purpule']\n"
     ]
    }
   ],
   "source": [
    "color.remove(\"yellow\")\n",
    "print(color)"
   ]
  },
  {
   "cell_type": "code",
   "execution_count": 21,
   "id": "04808365-10a6-4b4d-9d84-84cd8a82fc68",
   "metadata": {},
   "outputs": [],
   "source": [
    "color.append(\"yellow\")"
   ]
  },
  {
   "cell_type": "code",
   "execution_count": null,
   "id": "a88aef28-e968-4a1d-b954-36e1817c9588",
   "metadata": {},
   "outputs": [],
   "source": [
    "# Pop the element at index 2\n",
    "# ✅ Output: ['red', 'orange', 'purple']"
   ]
  },
  {
   "cell_type": "code",
   "execution_count": 23,
   "id": "3cc27c15-7bfe-47bd-adcd-ea493448c553",
   "metadata": {},
   "outputs": [
    {
     "data": {
      "text/plain": [
       "'purpule'"
      ]
     },
     "execution_count": 23,
     "metadata": {},
     "output_type": "execute_result"
    }
   ],
   "source": [
    "color.pop(2)"
   ]
  },
  {
   "cell_type": "code",
   "execution_count": 24,
   "id": "0a76440c-c08e-44a4-b032-7584cd464a14",
   "metadata": {},
   "outputs": [
    {
     "name": "stdout",
     "output_type": "stream",
     "text": [
      "['red', 'orange', 'yellow']\n"
     ]
    }
   ],
   "source": [
    "print(color)"
   ]
  },
  {
   "cell_type": "code",
   "execution_count": null,
   "id": "945b30a0-d934-4f86-8460-8bd5161a8ba5",
   "metadata": {},
   "outputs": [],
   "source": [
    "# Check if \"red\" is in the list\n",
    "# ✅ Output: True"
   ]
  },
  {
   "cell_type": "code",
   "execution_count": 26,
   "id": "3744ec47-11c5-4064-82f4-7c50361c86a9",
   "metadata": {},
   "outputs": [
    {
     "data": {
      "text/plain": [
       "True"
      ]
     },
     "execution_count": 26,
     "metadata": {},
     "output_type": "execute_result"
    }
   ],
   "source": [
    "\"red\" in color"
   ]
  },
  {
   "cell_type": "code",
   "execution_count": null,
   "id": "42d21052-3ca1-4d7b-8d7b-a72a1695911e",
   "metadata": {},
   "outputs": [],
   "source": [
    "# Get the length of the list\n",
    "# ✅ Output: 3"
   ]
  },
  {
   "cell_type": "code",
   "execution_count": null,
   "id": "3e159b7e-cff7-4711-88c5-2cc03b1ae886",
   "metadata": {},
   "outputs": [],
   "source": []
  },
  {
   "cell_type": "code",
   "execution_count": 27,
   "id": "07bb1134-5152-4dd8-8b0d-80b8fe2cb9db",
   "metadata": {},
   "outputs": [
    {
     "data": {
      "text/plain": [
       "3"
      ]
     },
     "execution_count": 27,
     "metadata": {},
     "output_type": "execute_result"
    }
   ],
   "source": [
    "len(color)"
   ]
  },
  {
   "cell_type": "code",
   "execution_count": null,
   "id": "c636aedc-e9aa-4ae8-bfe0-93e68941da82",
   "metadata": {},
   "outputs": [],
   "source": [
    "# Print all elements using a loop\n",
    "# ✅ Output:"
   ]
  },
  {
   "cell_type": "code",
   "execution_count": 28,
   "id": "76b087b8-0392-4b2d-887e-2558c1a2288a",
   "metadata": {},
   "outputs": [
    {
     "name": "stdout",
     "output_type": "stream",
     "text": [
      "red\n",
      "orange\n",
      "yellow\n"
     ]
    }
   ],
   "source": [
    "for i in color:\n",
    "    print(i)"
   ]
  },
  {
   "cell_type": "code",
   "execution_count": null,
   "id": "72f158f7-277c-42d7-9577-1c057ad8553b",
   "metadata": {},
   "outputs": [],
   "source": [
    "# Create nums = [5, 2, 9] and find the sum\n",
    "# ✅ Output: 16\n",
    "\n"
   ]
  },
  {
   "cell_type": "code",
   "execution_count": 29,
   "id": "e05e1835-1ce0-4290-91d7-70366b87b6a1",
   "metadata": {},
   "outputs": [
    {
     "name": "stdout",
     "output_type": "stream",
     "text": [
      "16\n"
     ]
    }
   ],
   "source": [
    "nums=[5,2,9]\n",
    "print(sum(nums))"
   ]
  },
  {
   "cell_type": "code",
   "execution_count": null,
   "id": "79c867f7-4997-4d22-b8ef-1d23f5991ab5",
   "metadata": {},
   "outputs": [],
   "source": [
    "# Find the maximum and minimum in nums\n",
    "# ✅ Output: 9, 2"
   ]
  },
  {
   "cell_type": "code",
   "execution_count": 30,
   "id": "cca81383-d815-4054-aab1-1ba0b5fb05eb",
   "metadata": {
    "collapsed": true,
    "jupyter": {
     "outputs_hidden": true
    }
   },
   "outputs": [
    {
     "data": {
      "text/plain": [
       "(9, 2)"
      ]
     },
     "execution_count": 30,
     "metadata": {},
     "output_type": "execute_result"
    }
   ],
   "source": [
    "max(nums),min(nums)"
   ]
  },
  {
   "cell_type": "code",
   "execution_count": null,
   "id": "53ccc610-69f8-48ab-b95c-51c9b080a668",
   "metadata": {},
   "outputs": [],
   "source": [
    "# Sort the list nums\n",
    "# ✅ Output: [2, 5, 9]"
   ]
  },
  {
   "cell_type": "code",
   "execution_count": 39,
   "id": "1f6dfafd-8fbf-4303-9ee9-1d2f01dc564a",
   "metadata": {},
   "outputs": [],
   "source": [
    "nums.sort()"
   ]
  },
  {
   "cell_type": "code",
   "execution_count": 40,
   "id": "e2c45bcf-2250-4ca7-a3b3-83a8dfb5ab90",
   "metadata": {},
   "outputs": [
    {
     "name": "stdout",
     "output_type": "stream",
     "text": [
      "[2, 5, 9]\n"
     ]
    }
   ],
   "source": [
    "print(nums)"
   ]
  },
  {
   "cell_type": "code",
   "execution_count": null,
   "id": "ea511c63-9785-4ce7-bf71-395bd4954d62",
   "metadata": {},
   "outputs": [],
   "source": []
  },
  {
   "cell_type": "code",
   "execution_count": null,
   "id": "4c78d8b4-df67-4a98-b506-4da2e64aca5b",
   "metadata": {},
   "outputs": [],
   "source": [
    "# Reverse the list nums\n",
    "# ✅ Output: [9, 5, 2]"
   ]
  },
  {
   "cell_type": "code",
   "execution_count": 41,
   "id": "2eb6307d-0351-4325-8791-dc6f10e85f12",
   "metadata": {},
   "outputs": [],
   "source": [
    "nums.reverse()"
   ]
  },
  {
   "cell_type": "code",
   "execution_count": 42,
   "id": "0292062e-ce9c-4448-b1c7-2d665e966f18",
   "metadata": {},
   "outputs": [
    {
     "name": "stdout",
     "output_type": "stream",
     "text": [
      "[9, 5, 2]\n"
     ]
    }
   ],
   "source": [
    "print(nums)"
   ]
  },
  {
   "cell_type": "code",
   "execution_count": null,
   "id": "f57db45b-b644-41f6-8b31-3856440b176d",
   "metadata": {},
   "outputs": [],
   "source": [
    "# Combine [1, 2] and [3, 4]\n",
    "# ✅ Output: [1, 2, 3, 4]\n",
    "\n"
   ]
  },
  {
   "cell_type": "code",
   "execution_count": null,
   "id": "3ec4132c-4fd4-456a-9a1c-6de61ea06662",
   "metadata": {},
   "outputs": [],
   "source": [
    "# Combine [1, 2] and [3, 4]\n",
    "# ✅ Output: [1, 2, 3, 4]"
   ]
  },
  {
   "cell_type": "code",
   "execution_count": 47,
   "id": "6dce3215-d71a-4a07-9fd4-830a74efd72a",
   "metadata": {},
   "outputs": [
    {
     "data": {
      "text/plain": [
       "[1, 2, 3, 4]"
      ]
     },
     "execution_count": 47,
     "metadata": {},
     "output_type": "execute_result"
    }
   ],
   "source": [
    "a=[1,2] \n",
    "b=[3,4]\n",
    "\n",
    "a+b"
   ]
  },
  {
   "cell_type": "code",
   "execution_count": null,
   "id": "2b3b2f64-4bd9-4663-b920-e55d9cd8bfc5",
   "metadata": {},
   "outputs": [],
   "source": [
    "# Copy the list [1, 2, 3] to another list\n",
    "# ✅ Output: [1, 2, 3]"
   ]
  },
  {
   "cell_type": "code",
   "execution_count": 48,
   "id": "0ebe774a-0072-4ef4-8444-448263134987",
   "metadata": {},
   "outputs": [],
   "source": [
    "a=[1,2,3]\n",
    "b=a.copy()"
   ]
  },
  {
   "cell_type": "code",
   "execution_count": 49,
   "id": "cf778cd8-b2dc-4c32-a054-0bf7bc9cbe0b",
   "metadata": {},
   "outputs": [
    {
     "name": "stdout",
     "output_type": "stream",
     "text": [
      "[1, 2, 3]\n"
     ]
    }
   ],
   "source": [
    "print(b)"
   ]
  },
  {
   "cell_type": "code",
   "execution_count": null,
   "id": "1b61cc9f-ee9a-4b6c-9b54-6d9f81cb1459",
   "metadata": {},
   "outputs": [],
   "source": [
    "# Clear all elements from the list [1, 2, 3]\n",
    "# ✅ Output: []"
   ]
  },
  {
   "cell_type": "code",
   "execution_count": 50,
   "id": "f5ef0fe9-813d-44f1-98f8-b5f67a857c7c",
   "metadata": {},
   "outputs": [],
   "source": [
    "a=[1,2,3]\n",
    "a.clear()"
   ]
  },
  {
   "cell_type": "code",
   "execution_count": 51,
   "id": "0cb9da47-bb2b-4e09-a1ea-ec842d3e1539",
   "metadata": {},
   "outputs": [
    {
     "data": {
      "text/plain": [
       "[]"
      ]
     },
     "execution_count": 51,
     "metadata": {},
     "output_type": "execute_result"
    }
   ],
   "source": [
    "a"
   ]
  },
  {
   "cell_type": "code",
   "execution_count": null,
   "id": "4da1669e-3f6a-442d-92a8-18020cb47bf2",
   "metadata": {},
   "outputs": [],
   "source": [
    "Count how many times 2 appears in [1, 2, 2, 3]\n",
    "✅ Output: 2"
   ]
  },
  {
   "cell_type": "code",
   "execution_count": 52,
   "id": "0202530f-d774-458c-a608-2adb851d6789",
   "metadata": {},
   "outputs": [
    {
     "data": {
      "text/plain": [
       "2"
      ]
     },
     "execution_count": 52,
     "metadata": {},
     "output_type": "execute_result"
    }
   ],
   "source": [
    "ab=[1,2,2,3]\n",
    "ab.count(2)"
   ]
  },
  {
   "cell_type": "code",
   "execution_count": null,
   "id": "bf67948f-02a8-46e0-b94a-55fb91aab441",
   "metadata": {},
   "outputs": [],
   "source": [
    "# Get index of element 3 in [1, 2, 3]\n",
    "# ✅ Output: 2\n",
    "\n"
   ]
  },
  {
   "cell_type": "code",
   "execution_count": 53,
   "id": "3c5edcf8-bd85-48d5-be14-227caa3b5172",
   "metadata": {},
   "outputs": [
    {
     "data": {
      "text/plain": [
       "[1, 2, 2, 3]"
      ]
     },
     "execution_count": 53,
     "metadata": {},
     "output_type": "execute_result"
    }
   ],
   "source": [
    "ab"
   ]
  }
 ],
 "metadata": {
  "kernelspec": {
   "display_name": "Python 3 (ipykernel)",
   "language": "python",
   "name": "python3"
  },
  "language_info": {
   "codemirror_mode": {
    "name": "ipython",
    "version": 3
   },
   "file_extension": ".py",
   "mimetype": "text/x-python",
   "name": "python",
   "nbconvert_exporter": "python",
   "pygments_lexer": "ipython3",
   "version": "3.11.9"
  }
 },
 "nbformat": 4,
 "nbformat_minor": 5
}
