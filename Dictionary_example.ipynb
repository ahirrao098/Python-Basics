{
 "cells": [
  {
   "cell_type": "code",
   "execution_count": null,
   "id": "b3a796fb-5846-4e31-af94-7a4a93df3f1c",
   "metadata": {},
   "outputs": [],
   "source": [
    "# Create a dictionary student = {\"name\": \"John\", \"age\": 20} and print it\n",
    "# ✅ Output: {'name': 'John', 'age': 20}"
   ]
  },
  {
   "cell_type": "code",
   "execution_count": 2,
   "id": "bf3a8bab-c1e6-49cd-8309-83c7c4192c21",
   "metadata": {},
   "outputs": [
    {
     "name": "stdout",
     "output_type": "stream",
     "text": [
      "{'name': 'Ram', 'Age': 31, 'Qualification': 'BE Mech'}\n"
     ]
    }
   ],
   "source": [
    "students={\"name\" : \"Ram\", \"Age\":31, \"Qualification\":\"BE Mech\"}\n",
    "print(students)"
   ]
  },
  {
   "cell_type": "code",
   "execution_count": null,
   "id": "2cfda1ca-fb8e-423d-ba05-270c3e296f0c",
   "metadata": {},
   "outputs": [],
   "source": [
    "# Access the value of \"name\" key\n",
    "# ✅ Output: John"
   ]
  },
  {
   "cell_type": "code",
   "execution_count": 3,
   "id": "e9193ea3-e339-474c-bd9c-e38eb2d24435",
   "metadata": {},
   "outputs": [
    {
     "data": {
      "text/plain": [
       "'Ram'"
      ]
     },
     "execution_count": 3,
     "metadata": {},
     "output_type": "execute_result"
    }
   ],
   "source": [
    "students[\"name\"]"
   ]
  },
  {
   "cell_type": "code",
   "execution_count": null,
   "id": "d1fd6dff-7ef7-4ecb-a1a6-a0afa85e728b",
   "metadata": {},
   "outputs": [],
   "source": [
    "# Change \"age\" to 21\n",
    "# ✅ Output: {'name': 'John', 'age': 21}"
   ]
  },
  {
   "cell_type": "code",
   "execution_count": 4,
   "id": "c4c5a918-1d54-4066-bb0d-94b0ee8ba973",
   "metadata": {},
   "outputs": [
    {
     "data": {
      "text/plain": [
       "{'name': 'Ram', 'Age': 31, 'Qualification': 'BE Mech'}"
      ]
     },
     "execution_count": 4,
     "metadata": {},
     "output_type": "execute_result"
    }
   ],
   "source": [
    "students"
   ]
  },
  {
   "cell_type": "code",
   "execution_count": 5,
   "id": "ab8e614b-61c9-4348-9baa-cdf69f2892d2",
   "metadata": {},
   "outputs": [],
   "source": [
    "students[\"Age\"]=21"
   ]
  },
  {
   "cell_type": "code",
   "execution_count": 6,
   "id": "e54d4a29-8082-463f-b163-44e42f7d12df",
   "metadata": {},
   "outputs": [
    {
     "name": "stdout",
     "output_type": "stream",
     "text": [
      "{'name': 'Ram', 'Age': 21, 'Qualification': 'BE Mech'}\n"
     ]
    }
   ],
   "source": [
    "print(students)"
   ]
  },
  {
   "cell_type": "code",
   "execution_count": null,
   "id": "d71e2317-3145-4e17-b630-d0502d154c65",
   "metadata": {},
   "outputs": [],
   "source": [
    "# Add a new key \"grade\": \"A\" to the dictionary\n",
    "# ✅ Output: {'name': 'John', 'age': 21, 'grade': 'A'}"
   ]
  },
  {
   "cell_type": "code",
   "execution_count": 12,
   "id": "cd8defaa-9617-4805-8c5d-0dc1a5a21c27",
   "metadata": {},
   "outputs": [],
   "source": [
    "students[\"grade\"]=\"A\"\n"
   ]
  },
  {
   "cell_type": "code",
   "execution_count": 13,
   "id": "1b2060d5-3475-454a-bcef-ede52a74ea3c",
   "metadata": {},
   "outputs": [
    {
     "data": {
      "text/plain": [
       "{'name': 'Ram', 'Age': 21, 'Qualification': 'BE Mech', 'grade': 'A'}"
      ]
     },
     "execution_count": 13,
     "metadata": {},
     "output_type": "execute_result"
    }
   ],
   "source": [
    "students"
   ]
  },
  {
   "cell_type": "code",
   "execution_count": 15,
   "id": "d00bb9da-c91f-4bbd-82a9-0101faa81bc6",
   "metadata": {},
   "outputs": [],
   "source": [
    "# Remove the key \"grade\"\n",
    "# ✅ Output: {'name': 'John', 'age': 21}"
   ]
  },
  {
   "cell_type": "code",
   "execution_count": 18,
   "id": "127e9e65-3143-4702-a39d-e15050ec3f85",
   "metadata": {},
   "outputs": [
    {
     "data": {
      "text/plain": [
       "'A'"
      ]
     },
     "execution_count": 18,
     "metadata": {},
     "output_type": "execute_result"
    }
   ],
   "source": [
    "students.pop(\"grade\")"
   ]
  },
  {
   "cell_type": "code",
   "execution_count": 19,
   "id": "90a4cffb-01d1-40c2-9eec-f6b3f9238526",
   "metadata": {},
   "outputs": [
    {
     "data": {
      "text/plain": [
       "{'name': 'Ram', 'Age': 21, 'Qualification': 'BE Mech'}"
      ]
     },
     "execution_count": 19,
     "metadata": {},
     "output_type": "execute_result"
    }
   ],
   "source": [
    "students"
   ]
  },
  {
   "cell_type": "code",
   "execution_count": null,
   "id": "93ac2427-6380-44b1-9884-8369fe986a09",
   "metadata": {},
   "outputs": [],
   "source": [
    "# Get the number of keys in the dictionary\n",
    "# ✅ Output: 2"
   ]
  },
  {
   "cell_type": "code",
   "execution_count": 20,
   "id": "d4edcefc-c6de-4fa3-ba24-b449684c27f0",
   "metadata": {},
   "outputs": [
    {
     "data": {
      "text/plain": [
       "3"
      ]
     },
     "execution_count": 20,
     "metadata": {},
     "output_type": "execute_result"
    }
   ],
   "source": [
    "len(students)"
   ]
  },
  {
   "cell_type": "code",
   "execution_count": null,
   "id": "ad0f07db-542a-4d5c-9be5-9f229c15594f",
   "metadata": {},
   "outputs": [],
   "source": [
    "# Check if \"name\" key exists in the dictionary\n",
    "# ✅ Output: True"
   ]
  },
  {
   "cell_type": "code",
   "execution_count": 21,
   "id": "d26dd8c6-f338-4e66-8ee6-078172fada2c",
   "metadata": {},
   "outputs": [
    {
     "data": {
      "text/plain": [
       "True"
      ]
     },
     "execution_count": 21,
     "metadata": {},
     "output_type": "execute_result"
    }
   ],
   "source": [
    "\"name\" in students"
   ]
  },
  {
   "cell_type": "code",
   "execution_count": null,
   "id": "20a07ffc-792e-484f-a075-b84e85442c83",
   "metadata": {},
   "outputs": [],
   "source": [
    "# Get all keys from the dictionary\n",
    "# ✅ Output: dict_keys(['name', 'age'])"
   ]
  },
  {
   "cell_type": "code",
   "execution_count": 26,
   "id": "4c01a680-ca29-44d1-8478-e14a3af7bb55",
   "metadata": {},
   "outputs": [
    {
     "name": "stdout",
     "output_type": "stream",
     "text": [
      "name\n",
      "Age\n",
      "Qualification\n"
     ]
    }
   ],
   "source": [
    "for key in students:\n",
    "    print(key)"
   ]
  },
  {
   "cell_type": "code",
   "execution_count": 27,
   "id": "1648be98-2539-4559-8472-1e2575126c55",
   "metadata": {},
   "outputs": [
    {
     "data": {
      "text/plain": [
       "dict_keys(['name', 'Age', 'Qualification'])"
      ]
     },
     "execution_count": 27,
     "metadata": {},
     "output_type": "execute_result"
    }
   ],
   "source": [
    "students.keys()"
   ]
  },
  {
   "cell_type": "code",
   "execution_count": null,
   "id": "fd3a2459-1602-4eb0-b8b7-49e3068bbad8",
   "metadata": {},
   "outputs": [],
   "source": []
  },
  {
   "cell_type": "code",
   "execution_count": null,
   "id": "6594b044-7906-4310-ab83-90b6e3b8f963",
   "metadata": {},
   "outputs": [],
   "source": [
    "# Get all key-value pairs from the dictionary\n",
    "# ✅ Output: dict_items([('name', 'John'), ('age', 21)])"
   ]
  },
  {
   "cell_type": "code",
   "execution_count": 31,
   "id": "6bb65b7f-abb9-42ad-b5f1-d4ede488ff0a",
   "metadata": {},
   "outputs": [
    {
     "data": {
      "text/plain": [
       "dict_items([('name', 'Ram'), ('Age', 21), ('Qualification', 'BE Mech')])"
      ]
     },
     "execution_count": 31,
     "metadata": {},
     "output_type": "execute_result"
    }
   ],
   "source": [
    "students.items()"
   ]
  },
  {
   "cell_type": "code",
   "execution_count": 32,
   "id": "84fc485e-d38a-4ec1-8c72-519b3cb677ba",
   "metadata": {},
   "outputs": [
    {
     "data": {
      "text/plain": [
       "dict_values(['Ram', 21, 'BE Mech'])"
      ]
     },
     "execution_count": 32,
     "metadata": {},
     "output_type": "execute_result"
    }
   ],
   "source": [
    "students.values()"
   ]
  },
  {
   "cell_type": "code",
   "execution_count": null,
   "id": "4bc393ea-67d8-45b7-b79d-5449fa253d15",
   "metadata": {},
   "outputs": [],
   "source": [
    "# Use get() to retrieve the value of \"age\"\n",
    "# ✅ Output: 21"
   ]
  },
  {
   "cell_type": "code",
   "execution_count": 34,
   "id": "a3e3f6ba-e8ff-4ad3-8742-a066cf82e86d",
   "metadata": {},
   "outputs": [
    {
     "data": {
      "text/plain": [
       "21"
      ]
     },
     "execution_count": 34,
     "metadata": {},
     "output_type": "execute_result"
    }
   ],
   "source": [
    "students.get(\"Age\")"
   ]
  },
  {
   "cell_type": "code",
   "execution_count": null,
   "id": "0026c996-cda5-4b67-ab97-166eea18ffe0",
   "metadata": {},
   "outputs": [],
   "source": [
    "# Use get() to retrieve \"gender\" with a default value \"Not specified\"\n",
    "# ✅ Output: Not specified"
   ]
  },
  {
   "cell_type": "code",
   "execution_count": 42,
   "id": "7dc5e699-33f4-4f51-a849-1c95ea564f96",
   "metadata": {},
   "outputs": [
    {
     "name": "stdout",
     "output_type": "stream",
     "text": [
      "Not specified\n"
     ]
    }
   ],
   "source": [
    "print(students.get(\"gender\",\"Not specified\"))"
   ]
  },
  {
   "cell_type": "code",
   "execution_count": 40,
   "id": "f754c00f-d396-4437-95e1-bacfcdd5720e",
   "metadata": {},
   "outputs": [
    {
     "data": {
      "text/plain": [
       "{'name': 'Ram', 'Age': 21, 'Qualification': 'BE Mech'}"
      ]
     },
     "execution_count": 40,
     "metadata": {},
     "output_type": "execute_result"
    }
   ],
   "source": [
    "students"
   ]
  },
  {
   "cell_type": "code",
   "execution_count": 43,
   "id": "6546ab8a-f62c-445b-ac45-93ddbbeae3a1",
   "metadata": {},
   "outputs": [],
   "source": [
    "# Clear the dictionary\n",
    "# ✅ Output: {}\n",
    "\n",
    "students.clear()\n"
   ]
  },
  {
   "cell_type": "code",
   "execution_count": 44,
   "id": "15efca94-2efb-4933-bf78-d0ea0f7c71e9",
   "metadata": {},
   "outputs": [
    {
     "name": "stdout",
     "output_type": "stream",
     "text": [
      "{}\n"
     ]
    }
   ],
   "source": [
    "print(students)"
   ]
  },
  {
   "cell_type": "code",
   "execution_count": null,
   "id": "d4c676f4-aef5-457f-88e9-9e43676ac711",
   "metadata": {},
   "outputs": [],
   "source": [
    "# Copy the dictionary to a new variable and print it\n",
    "# ✅ Output: {'name': 'John', 'age': 21}"
   ]
  },
  {
   "cell_type": "code",
   "execution_count": 45,
   "id": "c542dc28-915a-4142-9e81-d2806db792ed",
   "metadata": {},
   "outputs": [],
   "source": [
    "students1={\"name\" : \"Hari\", \"age\":21 ,\"gender\" :\"Male\"}"
   ]
  },
  {
   "cell_type": "code",
   "execution_count": null,
   "id": "694d2238-db09-447e-af0e-937b78a4095f",
   "metadata": {},
   "outputs": [],
   "source": [
    "# Copy the dictionary to a new variable and print it\n",
    "# ✅ Output: {'name': 'John', 'age': 21}\n",
    "\n"
   ]
  },
  {
   "cell_type": "code",
   "execution_count": 46,
   "id": "091204b1-640e-4d07-8c3e-167c4ccc3fc5",
   "metadata": {},
   "outputs": [],
   "source": [
    "students2=students1.copy()"
   ]
  },
  {
   "cell_type": "code",
   "execution_count": 47,
   "id": "62f5d1d9-bbb4-4126-a1d8-5ae2c7f9c271",
   "metadata": {},
   "outputs": [
    {
     "data": {
      "text/plain": [
       "{'name': 'Hari', 'age': 21, 'gender': 'Male'}"
      ]
     },
     "execution_count": 47,
     "metadata": {},
     "output_type": "execute_result"
    }
   ],
   "source": [
    "students2"
   ]
  },
  {
   "cell_type": "code",
   "execution_count": null,
   "id": "9a1aa80e-e83f-4564-9f65-3695a20160f7",
   "metadata": {},
   "outputs": [],
   "source": [
    "# Create dictionary using dict() constructor with name='Alice', age=25\n",
    "# ✅ Output: {'name': 'Alice', 'age': 25}"
   ]
  },
  {
   "cell_type": "code",
   "execution_count": 49,
   "id": "bf0580ae-545e-4879-bddf-aed67a409fd1",
   "metadata": {},
   "outputs": [],
   "source": [
    "students=dict(name=\"Krishna\" ,age=25)"
   ]
  },
  {
   "cell_type": "code",
   "execution_count": 50,
   "id": "6d7f441d-0379-419d-b9ff-7d2f1d379301",
   "metadata": {},
   "outputs": [
    {
     "data": {
      "text/plain": [
       "{'name': 'Krishna', 'age': 25}"
      ]
     },
     "execution_count": 50,
     "metadata": {},
     "output_type": "execute_result"
    }
   ],
   "source": [
    "students"
   ]
  },
  {
   "cell_type": "code",
   "execution_count": null,
   "id": "da0df4b4-0cc1-4bd2-b1a7-69c6a9bd6ec3",
   "metadata": {},
   "outputs": [],
   "source": [
    "# Update dictionary with another dictionary {\"age\": 26, \"city\": \"Delhi\"}\n",
    "# ✅ Output: {'name': 'Alice', 'age': 26, 'city': 'Delhi'}"
   ]
  },
  {
   "cell_type": "code",
   "execution_count": 52,
   "id": "549ee48b-f0ba-41cb-a4e1-0d90f5cc7926",
   "metadata": {},
   "outputs": [
    {
     "name": "stdout",
     "output_type": "stream",
     "text": [
      "{'name': 'Krishna', 'age': 25, 'gender': 'M', 'city': 'delhi'}\n"
     ]
    }
   ],
   "source": [
    "students.update({\"gender\":\"M\",\"city\":\"delhi\"})\n",
    "print(students)"
   ]
  },
  {
   "cell_type": "code",
   "execution_count": null,
   "id": "f4189a89-d6bd-4b49-9f68-bb40a1265f29",
   "metadata": {},
   "outputs": [],
   "source": [
    "# Remove item using pop(\"age\")\n",
    "# ✅ Output: {'name': 'Alice', 'city': 'Delhi'}"
   ]
  },
  {
   "cell_type": "code",
   "execution_count": 53,
   "id": "cc44128f-7822-43df-90c1-d319e60b96c1",
   "metadata": {},
   "outputs": [
    {
     "name": "stdout",
     "output_type": "stream",
     "text": [
      "{'name': 'Krishna', 'gender': 'M', 'city': 'delhi'}\n"
     ]
    }
   ],
   "source": [
    "students.pop(\"age\")\n",
    "print(students)"
   ]
  },
  {
   "cell_type": "code",
   "execution_count": null,
   "id": "1156977c-1f92-46d9-aab3-66ca94641b63",
   "metadata": {},
   "outputs": [],
   "source": [
    "# Remove the last inserted item using popitem()\n",
    "# ✅ Output: {'name': 'Alice'}\n",
    "\n"
   ]
  },
  {
   "cell_type": "code",
   "execution_count": 54,
   "id": "027d60ed-3cb9-4b54-9859-faf9b38d2b82",
   "metadata": {},
   "outputs": [
    {
     "name": "stdout",
     "output_type": "stream",
     "text": [
      "{'name': 'Krishna', 'gender': 'M'}\n"
     ]
    }
   ],
   "source": [
    "students.popitem()\n",
    "print(students)"
   ]
  },
  {
   "cell_type": "code",
   "execution_count": null,
   "id": "1ed77f6a-a70c-4302-a891-bcb26aebd878",
   "metadata": {},
   "outputs": [],
   "source": [
    "# Loop through keys and print them\n",
    "# ✅ Output:"
   ]
  },
  {
   "cell_type": "code",
   "execution_count": 55,
   "id": "982d7179-3a52-49e6-a2b9-8b2b3439f345",
   "metadata": {},
   "outputs": [
    {
     "name": "stdout",
     "output_type": "stream",
     "text": [
      "name\n",
      "gender\n"
     ]
    }
   ],
   "source": [
    "for key in students:\n",
    "    print(key)"
   ]
  },
  {
   "cell_type": "code",
   "execution_count": null,
   "id": "e1b0ce6b-07a3-456d-a8cb-57d1c9755b9c",
   "metadata": {},
   "outputs": [],
   "source": [
    "# Loop through key-value pairs and print them\n",
    "# ✅ Output:"
   ]
  },
  {
   "cell_type": "code",
   "execution_count": 59,
   "id": "2d3f6893-b964-4d5a-acaf-ce42e0e16543",
   "metadata": {},
   "outputs": [
    {
     "name": "stdout",
     "output_type": "stream",
     "text": [
      "name Krishna\n",
      "gender M\n"
     ]
    }
   ],
   "source": [
    "for key,value in students.items():\n",
    "    print(key ,value)"
   ]
  },
  {
   "cell_type": "code",
   "execution_count": null,
   "id": "40c2db12-06f1-4ca8-82b0-20c0f8d9702e",
   "metadata": {},
   "outputs": [],
   "source": []
  },
  {
   "cell_type": "code",
   "execution_count": null,
   "id": "6563e5aa-7da3-494e-8199-a97cf35cdc87",
   "metadata": {},
   "outputs": [],
   "source": []
  },
  {
   "cell_type": "code",
   "execution_count": null,
   "id": "d9692acf-0e44-429d-92be-d569a4442f28",
   "metadata": {},
   "outputs": [],
   "source": []
  }
 ],
 "metadata": {
  "kernelspec": {
   "display_name": "Python 3 (ipykernel)",
   "language": "python",
   "name": "python3"
  },
  "language_info": {
   "codemirror_mode": {
    "name": "ipython",
    "version": 3
   },
   "file_extension": ".py",
   "mimetype": "text/x-python",
   "name": "python",
   "nbconvert_exporter": "python",
   "pygments_lexer": "ipython3",
   "version": "3.11.9"
  }
 },
 "nbformat": 4,
 "nbformat_minor": 5
}
