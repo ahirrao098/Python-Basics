{
 "cells": [
  {
   "cell_type": "markdown",
   "id": "f288651a-9652-412f-ab30-5c8d88ef679d",
   "metadata": {},
   "source": [
    "## Conditional questions"
   ]
  },
  {
   "cell_type": "code",
   "execution_count": 1,
   "id": "6ce572e0-fc74-4b7d-aee8-2908f67fda2f",
   "metadata": {},
   "outputs": [
    {
     "name": "stdin",
     "output_type": "stream",
     "text": [
      "add the age 23\n"
     ]
    },
    {
     "name": "stdout",
     "output_type": "stream",
     "text": [
      "Adult\n"
     ]
    }
   ],
   "source": [
    "## 1\n",
    "\n",
    "age=int(input(\"add the age\"))\n",
    "\n",
    "if age < 13:\n",
    "    print(\"Child\")\n",
    "\n",
    "elif age < 19:\n",
    "    print(\"Teenager\")\n",
    "\n",
    "elif age < 59:\n",
    "    print(\"Adult\")\n",
    "\n",
    "else :\n",
    "    print(\"Senior\")\n",
    "    "
   ]
  },
  {
   "cell_type": "code",
   "execution_count": 2,
   "id": "8bce972c-69dc-4370-9972-7bba1ab224f6",
   "metadata": {},
   "outputs": [
    {
     "name": "stdout",
     "output_type": "stream",
     "text": [
      "10\n"
     ]
    }
   ],
   "source": [
    "age= 23\n",
    "day=\"Wednesday\"\n",
    "\n",
    "price=12 if age >=18 else 8 \n",
    "\n",
    "if day == \"Wednesday\":\n",
    "    price= price-2\n",
    "\n",
    "print(price)\n",
    "\n",
    "\n",
    "\n"
   ]
  },
  {
   "cell_type": "code",
   "execution_count": 1,
   "id": "010af7f8-e8ac-4d23-8f9c-840e6a4ac4d1",
   "metadata": {},
   "outputs": [
    {
     "name": "stdout",
     "output_type": "stream",
     "text": [
      "Please verify your grade\n",
      "A\n"
     ]
    }
   ],
   "source": [
    "score = 122\n",
    "\n",
    "if score >= 101:\n",
    "    print(\"Please verify your grade\")\n",
    "    exit()\n",
    "\n",
    "\n",
    "if score >= 90:\n",
    "    print(\"A\")\n",
    "\n",
    "elif score >= 80:\n",
    "    print(\"B\")\n",
    "\n",
    "elif score >= 70:\n",
    "    print(\"C\")\n",
    "elif score >= 60:\n",
    "    print(\"D\")\n",
    "else :\n",
    "    print(\"F\")\n",
    "    "
   ]
  },
  {
   "cell_type": "code",
   "execution_count": 3,
   "id": "3e25823e-a348-4bd6-a63e-918ba07c8cdf",
   "metadata": {},
   "outputs": [
    {
     "name": "stdout",
     "output_type": "stream",
     "text": [
      "OverRipe\n"
     ]
    }
   ],
   "source": [
    "fruit =\"Banana\"\n",
    "color=\"Brown\"\n",
    "\n",
    "if fruit == \"Banana\":\n",
    "    if color == \"Green\":\n",
    "        print(\"Unripe\")\n",
    "    elif color ==\"Yellow\":\n",
    "        print(\"Ripe\")\n",
    "    elif color == \"Brown\":\n",
    "        print(\"OverRipe\")"
   ]
  },
  {
   "cell_type": "code",
   "execution_count": 7,
   "id": "1505057b-fa3b-495b-9c14-be253345bd4b",
   "metadata": {},
   "outputs": [
    {
     "name": "stdout",
     "output_type": "stream",
     "text": [
      "Go for a walk\n"
     ]
    }
   ],
   "source": [
    "weather= \"Sunny\"\n",
    "\n",
    "if weather ==\"Sunny\":\n",
    "    activity=\"Go for a walk\"\n",
    "\n",
    "if weather == \"Rainy\":\n",
    "    activity=\"read a book\"\n",
    "\n",
    "if weather == \"Snowy\":\n",
    "    activity=\"Build a snowman\"\n",
    "\n",
    "print(activity)"
   ]
  },
  {
   "cell_type": "code",
   "execution_count": 13,
   "id": "6471015b-27c1-42c3-913d-e162f13909ba",
   "metadata": {},
   "outputs": [
    {
     "name": "stdout",
     "output_type": "stream",
     "text": [
      "car\n"
     ]
    }
   ],
   "source": [
    "distance= 22\n",
    "\n",
    "if distance < 3 :\n",
    "    mode=\"walk\"\n",
    "elif distance <=15:\n",
    "    mode=\"Bike\"\n",
    "else:\n",
    "    mode=\"car\"\n",
    "\n",
    "print(mode)"
   ]
  },
  {
   "cell_type": "code",
   "execution_count": 16,
   "id": "86f7eea7-c9d9-430c-b61e-b69769b3a538",
   "metadata": {},
   "outputs": [
    {
     "name": "stdout",
     "output_type": "stream",
     "text": [
      "small coffee with an extra shot\n"
     ]
    }
   ],
   "source": [
    "order_size=\"small\"\n",
    "extra_shot=True\n",
    "\n",
    "if extra_shot :\n",
    "    coffee = order_size + \" coffee with an extra shot\"\n",
    "\n",
    "else:\n",
    "    coffee = order_size +\"coffee\"\n",
    "    \n",
    "print(coffee)\n",
    "    "
   ]
  },
  {
   "cell_type": "code",
   "execution_count": 25,
   "id": "a880ed4c-15d1-49e5-aaa9-538edcd87bae",
   "metadata": {},
   "outputs": [
    {
     "name": "stdin",
     "output_type": "stream",
     "text": [
      "Enter dog age:  2\n",
      "Enter cat age:  6\n"
     ]
    },
    {
     "name": "stdout",
     "output_type": "stream",
     "text": [
      "Dog food recommendation: No food for dog\n",
      "Cat food recommendation: Senior cat food\n"
     ]
    }
   ],
   "source": [
    "dog_age = int(input(\"Enter dog age: \"))\n",
    "cat_age = int(input(\"Enter cat age: \"))\n",
    "\n",
    "# Initialize food variables\n",
    "food = \"No food for dog\"\n",
    "food_c = \"No food for cat\"\n",
    "\n",
    "if dog_age < 2:\n",
    "    food = \"Puppy food\"\n",
    "\n",
    "if cat_age > 5:\n",
    "    food_c = \"Senior cat food\"\n",
    "\n",
    "print(\"Dog food recommendation:\", food)\n",
    "print(\"Cat food recommendation:\", food_c)"
   ]
  },
  {
   "cell_type": "code",
   "execution_count": 27,
   "id": "60bf284e-2416-4ce4-bb4e-dc2e3f81f3dc",
   "metadata": {},
   "outputs": [
    {
     "name": "stdout",
     "output_type": "stream",
     "text": [
      "password strength is:  Strong\n"
     ]
    }
   ],
   "source": [
    "password=\"Secured_P#3\"\n",
    "\n",
    "if len(password)<6:\n",
    "    strength=\"Weak\"\n",
    "\n",
    "elif len(password) <= 10:\n",
    "    strength =\"Medium\"\n",
    "else:\n",
    "    strength=\"Strong\"\n",
    "\n",
    "print(\"password strength is: \",strength)\n",
    "    "
   ]
  },
  {
   "cell_type": "code",
   "execution_count": 30,
   "id": "aefdfa0f-7518-4ffe-af4f-9c4c79b3e27c",
   "metadata": {},
   "outputs": [
    {
     "name": "stdout",
     "output_type": "stream",
     "text": [
      "2020 is a leap year\n"
     ]
    }
   ],
   "source": [
    "## Leap year\n",
    "\n",
    "year = 2020\n",
    "\n",
    "\n",
    "if (year % 400 == 0) or (year % 4 == 0 and year % 100 !=0):\n",
    "    print(year , \"is a leap year\")\n",
    "\n",
    "else:\n",
    "    print(year, \"is not leap year\")\n",
    "    "
   ]
  },
  {
   "cell_type": "code",
   "execution_count": 33,
   "id": "fd39a4dd-24ae-414c-ab33-3992656dd9ae",
   "metadata": {},
   "outputs": [
    {
     "name": "stdout",
     "output_type": "stream",
     "text": [
      "negative\n"
     ]
    }
   ],
   "source": [
    "# Check if a number is positive, negative, or zero.\n",
    "\n",
    "num= -5\n",
    "\n",
    "if num > 0:\n",
    "    print(\"positive\")\n",
    "elif num < 0:\n",
    "    print(\"negative\")\n",
    "else:\n",
    "    print(\"zero\")"
   ]
  },
  {
   "cell_type": "code",
   "execution_count": 36,
   "id": "2130958a-0f8f-4076-9081-ac303ad893e3",
   "metadata": {},
   "outputs": [
    {
     "name": "stdout",
     "output_type": "stream",
     "text": [
      "even\n"
     ]
    }
   ],
   "source": [
    "# Check if a number is even or odd.\n",
    "\n",
    "num=-4\n",
    "\n",
    "if num % 2==0 :\n",
    "    print(\"even\")\n",
    "\n",
    "else:\n",
    "    print(\"odd\")"
   ]
  },
  {
   "cell_type": "code",
   "execution_count": 38,
   "id": "5e2314ed-c341-46af-bbe7-bd910457da5d",
   "metadata": {},
   "outputs": [
    {
     "name": "stdout",
     "output_type": "stream",
     "text": [
      "not eligible\n"
     ]
    }
   ],
   "source": [
    "# Determine if a person is eligible to vote (age >= 18).\n",
    "\n",
    "age = 14\n",
    "\n",
    "if age > 18:\n",
    "    print(\"eligible for vote\")\n",
    "\n",
    "else:\n",
    "    print(\"not eligible\")\n",
    "    "
   ]
  },
  {
   "cell_type": "code",
   "execution_count": 39,
   "id": "88d25c47-d3d4-4bae-8a43-e1bff7580b6a",
   "metadata": {},
   "outputs": [
    {
     "name": "stdout",
     "output_type": "stream",
     "text": [
      "num2 is greater\n"
     ]
    }
   ],
   "source": [
    "# Compare two numbers and print the greater one.\n",
    "\n",
    "num1 =2\n",
    "\n",
    "num2= 4\n",
    "\n",
    "if num1 > num2:\n",
    "    print(\"num1 is greater\")\n",
    "\n",
    "elif num2 > num1:\n",
    "    print(\"num2 is greater\")\n",
    "\n",
    "else:\n",
    "    print(\"both are equal\")\n"
   ]
  },
  {
   "cell_type": "code",
   "execution_count": 42,
   "id": "1316acfa-b102-4776-bd1c-8dbb664d2bc3",
   "metadata": {},
   "outputs": [
    {
     "name": "stdout",
     "output_type": "stream",
     "text": [
      "Vowel\n"
     ]
    }
   ],
   "source": [
    "# Check if a character is a vowel or consonant.\n",
    "ch=\"i\"\n",
    "if ch.lower() in \"aeiou\":\n",
    "    print(\"Vowel\")\n",
    "else:\n",
    "    print(\"consonent\")\n",
    "    "
   ]
  },
  {
   "cell_type": "code",
   "execution_count": 2,
   "id": "f9b6cb40-bf44-4e19-9f9a-d78dd1d1032f",
   "metadata": {},
   "outputs": [
    {
     "name": "stdout",
     "output_type": "stream",
     "text": [
      "check score again\n",
      "A\n"
     ]
    }
   ],
   "source": [
    "# Classify student grade: A (>=90), B (80–89), etc.\n",
    "score=102\n",
    "\n",
    "if score>= 101:\n",
    "    print(\"check score again\")\n",
    "    exit()\n",
    "\n",
    "\n",
    "if score >= 90:\n",
    "    grade=\"A\"\n",
    "elif score >=80:\n",
    "    grade=\"B\"\n",
    "elif score >=70:\n",
    "    grade=\"C\"\n",
    "else:\n",
    "    grade=\"F\"\n",
    "\n",
    "\n",
    "print(grade)"
   ]
  },
  {
   "cell_type": "code",
   "execution_count": 3,
   "id": "7a69fc3b-74ed-4926-ae1c-f96e39444127",
   "metadata": {},
   "outputs": [
    {
     "name": "stdout",
     "output_type": "stream",
     "text": [
      "not divisible\n"
     ]
    }
   ],
   "source": [
    "# Check if a number is divisible by 5 and 7.\n",
    "\n",
    "num=19\n",
    "\n",
    "if num % 5 == 0:\n",
    "    print(\"divisible by 5\")\n",
    "\n",
    "elif num % 7==0:\n",
    "    print(\"divisible by 7\")\n",
    "\n",
    "else:\n",
    "    print(\"not divisible\")"
   ]
  },
  {
   "cell_type": "code",
   "execution_count": 15,
   "id": "f6837085-6301-4e0b-8f66-d7ba91a83468",
   "metadata": {},
   "outputs": [
    {
     "name": "stdout",
     "output_type": "stream",
     "text": [
      "adult\n"
     ]
    }
   ],
   "source": [
    "# Determine if a person is a teenager (age 13–19).\n",
    "\n",
    "age=25\n",
    "\n",
    "if age < 13:\n",
    "    print(\"child\")\n",
    "\n",
    "elif age <=19:\n",
    "    print(\"Teenager\")\n",
    "\n",
    "else:\n",
    "    print(\"adult\")"
   ]
  },
  {
   "cell_type": "code",
   "execution_count": 17,
   "id": "fc33ce32-2fe6-4770-9d13-be0e25883dda",
   "metadata": {},
   "outputs": [
    {
     "name": "stdout",
     "output_type": "stream",
     "text": [
      "not in range\n"
     ]
    }
   ],
   "source": [
    "# Check if a number is within a given range (e.g., 10 to 50).\n",
    "\n",
    "num = 4\n",
    "\n",
    "if num in range(10,50):\n",
    "    print(\"within range\")\n",
    "\n",
    "else:\n",
    "    print(\"not in range\")"
   ]
  },
  {
   "cell_type": "code",
   "execution_count": 18,
   "id": "b3ef09f2-91b5-40f4-b091-7608f45138c7",
   "metadata": {},
   "outputs": [
    {
     "name": "stdout",
     "output_type": "stream",
     "text": [
      "within range\n"
     ]
    }
   ],
   "source": [
    "# Check if a number is within a given range (e.g., 10 to 50).\n",
    "\n",
    "\n",
    "\n",
    "num=45\n",
    "\n",
    "if 10<= num <= 50:\n",
    "    print(\"within range\")\n",
    "else:\n",
    "    print(\"out of range\")"
   ]
  },
  {
   "cell_type": "code",
   "execution_count": null,
   "id": "9cb63370-f7ef-4cb2-b7cd-f532a02620b1",
   "metadata": {},
   "outputs": [],
   "source": []
  },
  {
   "cell_type": "code",
   "execution_count": null,
   "id": "1e5dea7b-b0d7-4a55-9879-4fe170f586b2",
   "metadata": {},
   "outputs": [],
   "source": []
  },
  {
   "cell_type": "code",
   "execution_count": null,
   "id": "ec26518d-582a-4e70-aef7-b3fe70fcbc3d",
   "metadata": {},
   "outputs": [],
   "source": []
  },
  {
   "cell_type": "code",
   "execution_count": null,
   "id": "9362b4ee-94f5-4dd8-8892-6309c727e057",
   "metadata": {},
   "outputs": [],
   "source": []
  },
  {
   "cell_type": "code",
   "execution_count": null,
   "id": "9d28ddba-d7a6-420d-a7e9-9cfe7ee7653f",
   "metadata": {},
   "outputs": [],
   "source": []
  },
  {
   "cell_type": "code",
   "execution_count": null,
   "id": "e5756b88-fa9b-4755-af83-8c1e71f9205c",
   "metadata": {},
   "outputs": [],
   "source": []
  },
  {
   "cell_type": "code",
   "execution_count": null,
   "id": "b620eff6-5f5c-479d-8292-222fc6aaea91",
   "metadata": {},
   "outputs": [],
   "source": []
  },
  {
   "cell_type": "code",
   "execution_count": null,
   "id": "5d571ca7-afc3-41b3-aefd-a712c7c776a1",
   "metadata": {},
   "outputs": [],
   "source": []
  },
  {
   "cell_type": "code",
   "execution_count": null,
   "id": "79529e6b-3aa8-4f81-93aa-0bcb26de62db",
   "metadata": {},
   "outputs": [],
   "source": []
  },
  {
   "cell_type": "code",
   "execution_count": null,
   "id": "09652320-030f-43a7-b517-3cf9f5bcf929",
   "metadata": {},
   "outputs": [],
   "source": []
  },
  {
   "cell_type": "code",
   "execution_count": null,
   "id": "a6300b1a-f9ee-4d26-8c10-d1b70eeccd57",
   "metadata": {},
   "outputs": [],
   "source": []
  },
  {
   "cell_type": "code",
   "execution_count": null,
   "id": "7cfd429a-e2eb-461e-8241-816526befc51",
   "metadata": {},
   "outputs": [],
   "source": []
  },
  {
   "cell_type": "code",
   "execution_count": null,
   "id": "6a9434f6-985b-4edd-bd64-6ed046baf30f",
   "metadata": {},
   "outputs": [],
   "source": []
  },
  {
   "cell_type": "code",
   "execution_count": null,
   "id": "155e5c9c-846b-4eab-b2e1-bea8ac9519f1",
   "metadata": {},
   "outputs": [],
   "source": []
  },
  {
   "cell_type": "code",
   "execution_count": null,
   "id": "f13b17fe-d4bc-46ec-8bde-489c36721c57",
   "metadata": {},
   "outputs": [],
   "source": []
  },
  {
   "cell_type": "code",
   "execution_count": null,
   "id": "4988c5cd-2f2e-45ec-ad7c-f595a23f3f25",
   "metadata": {},
   "outputs": [],
   "source": []
  },
  {
   "cell_type": "code",
   "execution_count": null,
   "id": "7cdbd0a2-dcb4-4406-8cbf-ef1b951587b2",
   "metadata": {},
   "outputs": [],
   "source": []
  },
  {
   "cell_type": "code",
   "execution_count": null,
   "id": "22f287f8-79d8-45b7-b1bd-15c1fe9723ec",
   "metadata": {},
   "outputs": [],
   "source": []
  },
  {
   "cell_type": "code",
   "execution_count": null,
   "id": "112ffb2e-bd9e-4be9-b491-d1ef9baa75da",
   "metadata": {},
   "outputs": [],
   "source": []
  },
  {
   "cell_type": "code",
   "execution_count": null,
   "id": "75a45380-f234-42a5-aa31-74559531b18f",
   "metadata": {},
   "outputs": [],
   "source": []
  },
  {
   "cell_type": "code",
   "execution_count": null,
   "id": "4a058a81-8554-4def-bf51-6a087e851959",
   "metadata": {},
   "outputs": [],
   "source": []
  },
  {
   "cell_type": "code",
   "execution_count": null,
   "id": "a0b5a67a-e6ee-41bc-8516-798ebbee256c",
   "metadata": {},
   "outputs": [],
   "source": []
  },
  {
   "cell_type": "code",
   "execution_count": null,
   "id": "32f57013-df69-4f1b-b366-79fcd6e00a09",
   "metadata": {},
   "outputs": [],
   "source": []
  },
  {
   "cell_type": "code",
   "execution_count": null,
   "id": "4152aef6-c9de-4147-be88-2c374bdb77e2",
   "metadata": {},
   "outputs": [],
   "source": []
  },
  {
   "cell_type": "code",
   "execution_count": null,
   "id": "f96c1877-eea5-485b-96c0-5ad1080150eb",
   "metadata": {},
   "outputs": [],
   "source": []
  },
  {
   "cell_type": "code",
   "execution_count": null,
   "id": "938d63dc-2dc8-4e6e-a999-9681f76bfe51",
   "metadata": {},
   "outputs": [],
   "source": []
  },
  {
   "cell_type": "code",
   "execution_count": null,
   "id": "2c3a8d5d-9afe-4b34-8cf8-8a207cad8375",
   "metadata": {},
   "outputs": [],
   "source": []
  },
  {
   "cell_type": "code",
   "execution_count": null,
   "id": "982d5fbf-037e-41c4-a377-50a4369c6ce3",
   "metadata": {},
   "outputs": [],
   "source": []
  },
  {
   "cell_type": "code",
   "execution_count": null,
   "id": "5e340b4a-7e33-4408-8925-6a7f62846908",
   "metadata": {},
   "outputs": [],
   "source": []
  },
  {
   "cell_type": "code",
   "execution_count": null,
   "id": "4c5b5a42-4673-47ce-a8a8-20a04e8277f3",
   "metadata": {},
   "outputs": [],
   "source": []
  },
  {
   "cell_type": "code",
   "execution_count": null,
   "id": "c8c5f2aa-e827-4373-ae72-7c3494bb9b27",
   "metadata": {},
   "outputs": [],
   "source": []
  },
  {
   "cell_type": "code",
   "execution_count": null,
   "id": "80884e4c-5e94-4837-afc4-4c3952a6b7f9",
   "metadata": {},
   "outputs": [],
   "source": []
  },
  {
   "cell_type": "code",
   "execution_count": null,
   "id": "f59dccd9-f8f7-4310-b9ae-638a244ecf61",
   "metadata": {},
   "outputs": [],
   "source": []
  },
  {
   "cell_type": "code",
   "execution_count": null,
   "id": "3e89f444-42d5-4473-931a-0ddbae969eed",
   "metadata": {},
   "outputs": [],
   "source": []
  },
  {
   "cell_type": "code",
   "execution_count": null,
   "id": "271f6399-53b3-4259-b530-ec72dcddac29",
   "metadata": {},
   "outputs": [],
   "source": []
  },
  {
   "cell_type": "code",
   "execution_count": null,
   "id": "a93df6b1-1fe4-4b6c-832a-72bb78d8e473",
   "metadata": {},
   "outputs": [],
   "source": []
  }
 ],
 "metadata": {
  "kernelspec": {
   "display_name": "Python 3 (ipykernel)",
   "language": "python",
   "name": "python3"
  },
  "language_info": {
   "codemirror_mode": {
    "name": "ipython",
    "version": 3
   },
   "file_extension": ".py",
   "mimetype": "text/x-python",
   "name": "python",
   "nbconvert_exporter": "python",
   "pygments_lexer": "ipython3",
   "version": "3.11.9"
  }
 },
 "nbformat": 4,
 "nbformat_minor": 5
}
